{
 "cells": [
  {
   "cell_type": "code",
   "execution_count": 2,
   "metadata": {},
   "outputs": [
    {
     "data": {
      "application/vnd.jupyter.widget-view+json": {
       "model_id": "8bfe2f9a94b745bf898120708f7f9af4",
       "version_major": 2,
       "version_minor": 0
      },
      "text/plain": [
       "Summarize dataset:   0%|          | 0/22 [00:00<?, ?it/s]"
      ]
     },
     "metadata": {},
     "output_type": "display_data"
    },
    {
     "data": {
      "application/vnd.jupyter.widget-view+json": {
       "model_id": "d8cbb0238fdb496385126486a236efab",
       "version_major": 2,
       "version_minor": 0
      },
      "text/plain": [
       "Generate report structure:   0%|          | 0/1 [00:00<?, ?it/s]"
      ]
     },
     "metadata": {},
     "output_type": "display_data"
    },
    {
     "data": {
      "application/vnd.jupyter.widget-view+json": {
       "model_id": "0d73d053697e40c49e59fecce0864464",
       "version_major": 2,
       "version_minor": 0
      },
      "text/plain": [
       "Render HTML:   0%|          | 0/1 [00:00<?, ?it/s]"
      ]
     },
     "metadata": {},
     "output_type": "display_data"
    },
    {
     "data": {
      "application/vnd.jupyter.widget-view+json": {
       "model_id": "10c5fe4928374c109d737449797af7ff",
       "version_major": 2,
       "version_minor": 0
      },
      "text/plain": [
       "Export report to file:   0%|          | 0/1 [00:00<?, ?it/s]"
      ]
     },
     "metadata": {},
     "output_type": "display_data"
    }
   ],
   "source": [
    "import pandas as pd\n",
    "from pandas_profiling import ProfileReport\n",
    "\n",
    "df = pd.read_csv('diabetes.csv')\n",
    "file = ProfileReport(df)\n",
    "file.to_file(output_file=\"output.html\")"
   ]
  },
  {
   "cell_type": "code",
   "execution_count": 7,
   "metadata": {},
   "outputs": [
    {
     "name": "stdout",
     "output_type": "stream",
     "text": [
      "Defaulting to user installation because normal site-packages is not writeable\n",
      "Collecting pandas_profiling\n",
      "  Downloading pandas_profiling-3.0.0-py2.py3-none-any.whl (248 kB)\n",
      "\u001b[K     |████████████████████████████████| 248 kB 1.5 MB/s eta 0:00:01\n",
      "\u001b[?25hCollecting tqdm>=4.48.2\n",
      "  Downloading tqdm-4.62.1-py2.py3-none-any.whl (76 kB)\n",
      "\u001b[K     |████████████████████████████████| 76 kB 888 kB/s  eta 0:00:01\n",
      "\u001b[?25hCollecting pydantic>=1.8.1\n",
      "  Downloading pydantic-1.8.2-cp37-cp37m-manylinux2014_x86_64.whl (10.1 MB)\n",
      "\u001b[K     |████████████████████████████████| 10.1 MB 8.3 MB/s eta 0:00:01     |▌                               | 174 kB 11.0 MB/s eta 0:00:01     |███████▏                        | 2.3 MB 11.0 MB/s eta 0:00:01     |███████████████████▉            | 6.2 MB 11.0 MB/s eta 0:00:01     |█████████████████████████▍      | 8.0 MB 11.0 MB/s eta 0:00:01\n",
      "\u001b[?25hRequirement already satisfied: scipy>=1.4.1 in /home/yero/anaconda3/lib/python3.7/site-packages (from pandas_profiling) (1.5.0)\n",
      "Collecting missingno>=0.4.2\n",
      "  Downloading missingno-0.5.0-py3-none-any.whl (8.8 kB)\n",
      "Requirement already satisfied: matplotlib>=3.2.0 in /home/yero/anaconda3/lib/python3.7/site-packages (from pandas_profiling) (3.2.2)\n",
      "Requirement already satisfied: pandas!=1.0.0,!=1.0.1,!=1.0.2,!=1.1.0,>=0.25.3 in /home/yero/anaconda3/lib/python3.7/site-packages (from pandas_profiling) (1.0.5)\n",
      "Requirement already satisfied: joblib in /home/yero/anaconda3/lib/python3.7/site-packages (from pandas_profiling) (0.15.1)\n",
      "Requirement already satisfied: numpy>=1.16.0 in /home/yero/anaconda3/lib/python3.7/site-packages (from pandas_profiling) (1.18.5)\n",
      "Requirement already satisfied: requests>=2.24.0 in /home/yero/anaconda3/lib/python3.7/site-packages (from pandas_profiling) (2.24.0)\n",
      "Collecting tangled-up-in-unicode==0.1.0\n",
      "  Downloading tangled_up_in_unicode-0.1.0-py3-none-any.whl (3.1 MB)\n",
      "\u001b[K     |████████████████████████████████| 3.1 MB 12.6 MB/s eta 0:00:01     |████████████████████▎           | 2.0 MB 12.6 MB/s eta 0:00:01\n",
      "\u001b[?25hRequirement already satisfied: seaborn>=0.10.1 in /home/yero/anaconda3/lib/python3.7/site-packages (from pandas_profiling) (0.10.1)\n",
      "Collecting visions[type_image_path]==0.7.1\n",
      "  Downloading visions-0.7.1-py3-none-any.whl (102 kB)\n",
      "\u001b[K     |████████████████████████████████| 102 kB 13.5 MB/s eta 0:00:01\n",
      "\u001b[?25hRequirement already satisfied: jinja2>=2.11.1 in /home/yero/anaconda3/lib/python3.7/site-packages (from pandas_profiling) (2.11.2)\n",
      "Collecting htmlmin>=0.1.12\n",
      "  Downloading htmlmin-0.1.12.tar.gz (19 kB)\n",
      "Collecting phik>=0.11.1\n",
      "  Downloading phik-0.12.0-cp37-cp37m-manylinux2010_x86_64.whl (675 kB)\n",
      "\u001b[K     |████████████████████████████████| 675 kB 11.4 MB/s eta 0:00:01\n",
      "\u001b[?25hRequirement already satisfied: PyYAML>=5.0.0 in /home/yero/anaconda3/lib/python3.7/site-packages (from pandas_profiling) (5.3.1)\n",
      "Collecting typing-extensions>=3.7.4.3\n",
      "  Downloading typing_extensions-3.10.0.0-py3-none-any.whl (26 kB)\n",
      "Requirement already satisfied: kiwisolver>=1.0.1 in /home/yero/anaconda3/lib/python3.7/site-packages (from matplotlib>=3.2.0->pandas_profiling) (1.2.0)\n",
      "Requirement already satisfied: python-dateutil>=2.1 in /home/yero/anaconda3/lib/python3.7/site-packages (from matplotlib>=3.2.0->pandas_profiling) (2.8.1)\n",
      "Requirement already satisfied: pyparsing!=2.0.4,!=2.1.2,!=2.1.6,>=2.0.1 in /home/yero/anaconda3/lib/python3.7/site-packages (from matplotlib>=3.2.0->pandas_profiling) (2.4.7)\n",
      "Requirement already satisfied: cycler>=0.10 in /home/yero/anaconda3/lib/python3.7/site-packages (from matplotlib>=3.2.0->pandas_profiling) (0.10.0)\n",
      "Requirement already satisfied: pytz>=2017.2 in /home/yero/anaconda3/lib/python3.7/site-packages (from pandas!=1.0.0,!=1.0.1,!=1.0.2,!=1.1.0,>=0.25.3->pandas_profiling) (2020.1)\n",
      "Requirement already satisfied: chardet<4,>=3.0.2 in /home/yero/anaconda3/lib/python3.7/site-packages (from requests>=2.24.0->pandas_profiling) (3.0.4)\n",
      "Requirement already satisfied: urllib3!=1.25.0,!=1.25.1,<1.26,>=1.21.1 in /home/yero/anaconda3/lib/python3.7/site-packages (from requests>=2.24.0->pandas_profiling) (1.25.9)\n",
      "Requirement already satisfied: idna<3,>=2.5 in /home/yero/anaconda3/lib/python3.7/site-packages (from requests>=2.24.0->pandas_profiling) (2.10)\n",
      "Requirement already satisfied: certifi>=2017.4.17 in /home/yero/anaconda3/lib/python3.7/site-packages (from requests>=2.24.0->pandas_profiling) (2020.6.20)\n",
      "Collecting multimethod==1.4\n",
      "  Downloading multimethod-1.4-py2.py3-none-any.whl (7.3 kB)\n",
      "Requirement already satisfied: networkx>=2.4 in /home/yero/anaconda3/lib/python3.7/site-packages (from visions[type_image_path]==0.7.1->pandas_profiling) (2.4)\n",
      "Requirement already satisfied: attrs>=19.3.0 in /home/yero/anaconda3/lib/python3.7/site-packages (from visions[type_image_path]==0.7.1->pandas_profiling) (19.3.0)\n",
      "Requirement already satisfied: bottleneck in /home/yero/anaconda3/lib/python3.7/site-packages (from visions[type_image_path]==0.7.1->pandas_profiling) (1.3.2)\n",
      "Requirement already satisfied: Pillow; extra == \"type_image_path\" in /home/yero/anaconda3/lib/python3.7/site-packages (from visions[type_image_path]==0.7.1->pandas_profiling) (7.1.2)\n",
      "Collecting imagehash; extra == \"type_image_path\"\n",
      "  Downloading ImageHash-4.2.1.tar.gz (812 kB)\n",
      "\u001b[K     |████████████████████████████████| 812 kB 8.0 MB/s eta 0:00:01\n",
      "\u001b[?25hRequirement already satisfied: MarkupSafe>=0.23 in /home/yero/anaconda3/lib/python3.7/site-packages (from jinja2>=2.11.1->pandas_profiling) (1.1.1)\n",
      "Requirement already satisfied: six>=1.5 in /home/yero/anaconda3/lib/python3.7/site-packages (from python-dateutil>=2.1->matplotlib>=3.2.0->pandas_profiling) (1.15.0)\n",
      "Requirement already satisfied: decorator>=4.3.0 in /home/yero/anaconda3/lib/python3.7/site-packages (from networkx>=2.4->visions[type_image_path]==0.7.1->pandas_profiling) (4.4.2)\n",
      "Requirement already satisfied: PyWavelets in /home/yero/anaconda3/lib/python3.7/site-packages (from imagehash; extra == \"type_image_path\"->visions[type_image_path]==0.7.1->pandas_profiling) (1.1.1)\n",
      "Building wheels for collected packages: htmlmin, imagehash\n",
      "  Building wheel for htmlmin (setup.py) ... \u001b[?25ldone\n",
      "\u001b[?25h  Created wheel for htmlmin: filename=htmlmin-0.1.12-py3-none-any.whl size=27084 sha256=3ce6c1b20934dcbc1d10860e1c823a96144e796489434704e480495fcd826d69\n",
      "  Stored in directory: /home/yero/.cache/pip/wheels/70/e1/52/5b14d250ba868768823940c3229e9950d201a26d0bd3ee8655\n",
      "  Building wheel for imagehash (setup.py) ... \u001b[?25ldone\n",
      "\u001b[?25h  Created wheel for imagehash: filename=ImageHash-4.2.1-py2.py3-none-any.whl size=295198 sha256=5c455117f20794b8cddaa6b88ed9c01d7ed7e942dd0647397eae051111924725\n",
      "  Stored in directory: /home/yero/.cache/pip/wheels/4c/d5/59/5e3e297533ddb09407769762985d134135064c6831e29a914e\n",
      "Successfully built htmlmin imagehash\n",
      "\u001b[31mERROR: phik 0.12.0 has requirement scipy>=1.5.2, but you'll have scipy 1.5.0 which is incompatible.\u001b[0m\n",
      "Installing collected packages: tqdm, typing-extensions, pydantic, missingno, tangled-up-in-unicode, multimethod, imagehash, visions, htmlmin, phik, pandas-profiling\n",
      "Successfully installed htmlmin-0.1.12 imagehash-4.2.1 missingno-0.5.0 multimethod-1.4 pandas-profiling-3.0.0 phik-0.12.0 pydantic-1.8.2 tangled-up-in-unicode-0.1.0 tqdm-4.62.1 typing-extensions-3.10.0.0 visions-0.7.1\n",
      "Note: you may need to restart the kernel to use updated packages.\n"
     ]
    }
   ],
   "source": [
    "pip install pandas_profiling\n"
   ]
  },
  {
   "cell_type": "code",
   "execution_count": null,
   "metadata": {},
   "outputs": [],
   "source": []
  }
 ],
 "metadata": {
  "kernelspec": {
   "display_name": "Python 3",
   "language": "python",
   "name": "python3"
  },
  "language_info": {
   "codemirror_mode": {
    "name": "ipython",
    "version": 3
   },
   "file_extension": ".py",
   "mimetype": "text/x-python",
   "name": "python",
   "nbconvert_exporter": "python",
   "pygments_lexer": "ipython3",
   "version": "3.7.3"
  }
 },
 "nbformat": 4,
 "nbformat_minor": 4
}
