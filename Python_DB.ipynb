{
 "cells": [
  {
   "cell_type": "code",
   "execution_count": 46,
   "metadata": {
    "scrolled": true
   },
   "outputs": [
    {
     "name": "stdout",
     "output_type": "stream",
     "text": [
      "(100, 'E')\n",
      "(101, 'E')\n"
     ]
    }
   ],
   "source": [
    "import pandas as pd\n",
    "import pyodbc\n",
    "server = 'tcp:localhost' \n",
    "database = 'testDATA' \n",
    "username = 'sa' \n",
    "password = 'sasa' \n",
    "cnxn = pyodbc.connect('DRIVER={ODBC Driver 17 for SQL Server};\\\n",
    "                      SERVER='+server+';DATABASE='+database+';UID='+username+';PWD='+ password)\n",
    "cursor = cnxn.cursor()\n",
    "#cursor.execute(\"INSERT INTO testTable (id,nombre) VALUES(101,'E');\") \n",
    "cursor.execute(\"SELECT id, nombre from testTable;\") \n",
    "row = cursor.fetchone() \n",
    "while row: \n",
    "    print(row)\n",
    "    row = cursor.fetchone()\n"
   ]
  },
  {
   "cell_type": "code",
   "execution_count": 20,
   "metadata": {
    "scrolled": true
   },
   "outputs": [
    {
     "name": "stdout",
     "output_type": "stream",
     "text": [
      "(200, 'Evqueni')\n"
     ]
    }
   ],
   "source": [
    "import mysql.connector\n",
    "conexion=mysql.connector.connect(host=\"localhost\", \n",
    "                                  user=\"root\", \n",
    "                                  passwd=\"\", \n",
    "                                  database=\"Test_sch\")\n",
    "c_cursor=conexion.cursor()\n",
    "c_cursor.execute(\"insert into testTable (id,nombre) values(200,'Evqueni');\")\n",
    "c_cursor.execute(\"select * from testTable\")\n",
    "for fila in c_cursor:\n",
    "    print(fila)\n",
    "conexion.close() "
   ]
  },
  {
   "cell_type": "code",
   "execution_count": 64,
   "metadata": {
    "scrolled": true
   },
   "outputs": [
    {
     "name": "stdout",
     "output_type": "stream",
     "text": [
      "[{'_id': ObjectId('61675e886dfe7c70c19e77e4'), 'identificador': 0, 'nombre': 'yero0'}, {'_id': ObjectId('61675e886dfe7c70c19e77e5'), 'identificador': 1, 'nombre': 'yero1'}, {'_id': ObjectId('61675e886dfe7c70c19e77e6'), 'identificador': 2, 'nombre': 'yero2'}, {'_id': ObjectId('61675e886dfe7c70c19e77e7'), 'identificador': 3, 'nombre': 'yero3'}, {'_id': ObjectId('61675e886dfe7c70c19e77e8'), 'identificador': 4, 'nombre': 'yero4'}, {'_id': ObjectId('61675e886dfe7c70c19e77e9'), 'identificador': 5, 'nombre': 'yero5'}, {'_id': ObjectId('61675e886dfe7c70c19e77ea'), 'identificador': 6, 'nombre': 'yero6'}, {'_id': ObjectId('61675e886dfe7c70c19e77eb'), 'identificador': 7, 'nombre': 'yero7'}, {'_id': ObjectId('61675e886dfe7c70c19e77ec'), 'identificador': 8, 'nombre': 'yero8'}, {'_id': ObjectId('61675e886dfe7c70c19e77ed'), 'identificador': 9, 'nombre': 'yero9'}, {'_id': ObjectId('61675e886dfe7c70c19e77ee'), 'identificador': 10, 'nombre': 'yero10'}, {'_id': ObjectId('61675e886dfe7c70c19e77ef'), 'identificador': 11, 'nombre': 'yero11'}, {'_id': ObjectId('61675e886dfe7c70c19e77f0'), 'identificador': 12, 'nombre': 'yero12'}, {'_id': ObjectId('61675e886dfe7c70c19e77f1'), 'identificador': 13, 'nombre': 'yero13'}, {'_id': ObjectId('61675e886dfe7c70c19e77f2'), 'identificador': 14, 'nombre': 'yero14'}, {'_id': ObjectId('61675e886dfe7c70c19e77f3'), 'identificador': 15, 'nombre': 'yero15'}, {'_id': ObjectId('61675e886dfe7c70c19e77f4'), 'identificador': 16, 'nombre': 'yero16'}, {'_id': ObjectId('61675e886dfe7c70c19e77f5'), 'identificador': 17, 'nombre': 'yero17'}, {'_id': ObjectId('61675e886dfe7c70c19e77f6'), 'identificador': 18, 'nombre': 'yero18'}, {'_id': ObjectId('61675e886dfe7c70c19e77f7'), 'identificador': 19, 'nombre': 'yero19'}, {'_id': ObjectId('61675ee56dfe7c70c19e77f9'), 'identificador': 0, 'nombre': 'yero0'}, {'_id': ObjectId('61675ee56dfe7c70c19e77fa'), 'identificador': 1, 'nombre': 'yero1'}, {'_id': ObjectId('61675ee56dfe7c70c19e77fb'), 'identificador': 2, 'nombre': 'yero2'}, {'_id': ObjectId('61675ee56dfe7c70c19e77fc'), 'identificador': 3, 'nombre': 'yero3'}, {'_id': ObjectId('61675ee56dfe7c70c19e77fd'), 'identificador': 4, 'nombre': 'yero4'}, {'_id': ObjectId('61675ee56dfe7c70c19e77fe'), 'identificador': 5, 'nombre': 'yero5'}, {'_id': ObjectId('61675ee56dfe7c70c19e77ff'), 'identificador': 6, 'nombre': 'yero6'}, {'_id': ObjectId('61675ee56dfe7c70c19e7800'), 'identificador': 7, 'nombre': 'yero7'}, {'_id': ObjectId('61675ee56dfe7c70c19e7801'), 'identificador': 8, 'nombre': 'yero8'}, {'_id': ObjectId('61675ee56dfe7c70c19e7802'), 'identificador': 9, 'nombre': 'yero9'}, {'_id': ObjectId('61675ee56dfe7c70c19e7803'), 'identificador': 10, 'nombre': 'yero10'}, {'_id': ObjectId('61675ee56dfe7c70c19e7804'), 'identificador': 11, 'nombre': 'yero11'}, {'_id': ObjectId('61675ee56dfe7c70c19e7805'), 'identificador': 12, 'nombre': 'yero12'}, {'_id': ObjectId('61675ee56dfe7c70c19e7806'), 'identificador': 13, 'nombre': 'yero13'}, {'_id': ObjectId('61675ee56dfe7c70c19e7807'), 'identificador': 14, 'nombre': 'yero14'}, {'_id': ObjectId('61675ee56dfe7c70c19e7808'), 'identificador': 15, 'nombre': 'yero15'}, {'_id': ObjectId('61675ee56dfe7c70c19e7809'), 'identificador': 16, 'nombre': 'yero16'}, {'_id': ObjectId('61675ee56dfe7c70c19e780a'), 'identificador': 17, 'nombre': 'yero17'}, {'_id': ObjectId('61675ee56dfe7c70c19e780b'), 'identificador': 18, 'nombre': 'yero18'}, {'_id': ObjectId('61675ee56dfe7c70c19e780c'), 'identificador': 19, 'nombre': 'yero19'}, {'_id': ObjectId('61675f546dfe7c70c19e780e'), 'identificador': 0, 'nombre': 'yero0'}, {'_id': ObjectId('61675f546dfe7c70c19e780f'), 'identificador': 1, 'nombre': 'yero1'}, {'_id': ObjectId('61675f546dfe7c70c19e7810'), 'identificador': 2, 'nombre': 'yero2'}, {'_id': ObjectId('61675f546dfe7c70c19e7811'), 'identificador': 3, 'nombre': 'yero3'}, {'_id': ObjectId('61675f546dfe7c70c19e7812'), 'identificador': 4, 'nombre': 'yero4'}, {'_id': ObjectId('61675f546dfe7c70c19e7813'), 'identificador': 5, 'nombre': 'yero5'}, {'_id': ObjectId('61675f546dfe7c70c19e7814'), 'identificador': 6, 'nombre': 'yero6'}, {'_id': ObjectId('61675f546dfe7c70c19e7815'), 'identificador': 7, 'nombre': 'yero7'}, {'_id': ObjectId('61675f546dfe7c70c19e7816'), 'identificador': 8, 'nombre': 'yero8'}, {'_id': ObjectId('61675f546dfe7c70c19e7817'), 'identificador': 9, 'nombre': 'yero9'}, {'_id': ObjectId('61675f546dfe7c70c19e7818'), 'identificador': 10, 'nombre': 'yero10'}, {'_id': ObjectId('61675f546dfe7c70c19e7819'), 'identificador': 11, 'nombre': 'yero11'}, {'_id': ObjectId('61675f546dfe7c70c19e781a'), 'identificador': 12, 'nombre': 'yero12'}, {'_id': ObjectId('61675f546dfe7c70c19e781b'), 'identificador': 13, 'nombre': 'yero13'}, {'_id': ObjectId('61675f546dfe7c70c19e781c'), 'identificador': 14, 'nombre': 'yero14'}, {'_id': ObjectId('61675f546dfe7c70c19e781d'), 'identificador': 15, 'nombre': 'yero15'}, {'_id': ObjectId('61675f546dfe7c70c19e781e'), 'identificador': 16, 'nombre': 'yero16'}, {'_id': ObjectId('61675f546dfe7c70c19e781f'), 'identificador': 17, 'nombre': 'yero17'}, {'_id': ObjectId('61675f546dfe7c70c19e7820'), 'identificador': 18, 'nombre': 'yero18'}, {'_id': ObjectId('61675f546dfe7c70c19e7821'), 'identificador': 19, 'nombre': 'yero19'}, {'_id': ObjectId('61675f7c6dfe7c70c19e7823'), 'identificador': 0, 'nombre': 'yero0'}, {'_id': ObjectId('61675f7c6dfe7c70c19e7824'), 'identificador': 1, 'nombre': 'yero1'}, {'_id': ObjectId('61675f7c6dfe7c70c19e7825'), 'identificador': 2, 'nombre': 'yero2'}, {'_id': ObjectId('61675f7c6dfe7c70c19e7826'), 'identificador': 3, 'nombre': 'yero3'}, {'_id': ObjectId('61675f7c6dfe7c70c19e7827'), 'identificador': 4, 'nombre': 'yero4'}, {'_id': ObjectId('61675f7c6dfe7c70c19e7828'), 'identificador': 5, 'nombre': 'yero5'}, {'_id': ObjectId('61675f7c6dfe7c70c19e7829'), 'identificador': 6, 'nombre': 'yero6'}, {'_id': ObjectId('61675f7c6dfe7c70c19e782a'), 'identificador': 7, 'nombre': 'yero7'}, {'_id': ObjectId('61675f7c6dfe7c70c19e782b'), 'identificador': 8, 'nombre': 'yero8'}, {'_id': ObjectId('61675f7c6dfe7c70c19e782c'), 'identificador': 9, 'nombre': 'yero9'}, {'_id': ObjectId('61675f7c6dfe7c70c19e782d'), 'identificador': 10, 'nombre': 'yero10'}, {'_id': ObjectId('61675f7c6dfe7c70c19e782e'), 'identificador': 11, 'nombre': 'yero11'}, {'_id': ObjectId('61675f7c6dfe7c70c19e782f'), 'identificador': 12, 'nombre': 'yero12'}, {'_id': ObjectId('61675f7c6dfe7c70c19e7830'), 'identificador': 13, 'nombre': 'yero13'}, {'_id': ObjectId('61675f7c6dfe7c70c19e7831'), 'identificador': 14, 'nombre': 'yero14'}, {'_id': ObjectId('61675f7c6dfe7c70c19e7832'), 'identificador': 15, 'nombre': 'yero15'}, {'_id': ObjectId('61675f7c6dfe7c70c19e7833'), 'identificador': 16, 'nombre': 'yero16'}, {'_id': ObjectId('61675f7c6dfe7c70c19e7834'), 'identificador': 17, 'nombre': 'yero17'}, {'_id': ObjectId('61675f7c6dfe7c70c19e7835'), 'identificador': 18, 'nombre': 'yero18'}, {'_id': ObjectId('61675f7c6dfe7c70c19e7836'), 'identificador': 19, 'nombre': 'yero19'}, {'_id': ObjectId('616760466dfe7c70c19e7838'), 'identificador': 0, 'nombre': 'step_0'}, {'_id': ObjectId('616760466dfe7c70c19e7839'), 'identificador': 1, 'nombre': 'step_1'}, {'_id': ObjectId('616760466dfe7c70c19e783a'), 'identificador': 2, 'nombre': 'step_2'}, {'_id': ObjectId('616760466dfe7c70c19e783b'), 'identificador': 3, 'nombre': 'step_3'}, {'_id': ObjectId('616760466dfe7c70c19e783c'), 'identificador': 4, 'nombre': 'step_4'}, {'_id': ObjectId('616760466dfe7c70c19e783d'), 'identificador': 5, 'nombre': 'step_5'}, {'_id': ObjectId('616760466dfe7c70c19e783e'), 'identificador': 6, 'nombre': 'step_6'}, {'_id': ObjectId('616760466dfe7c70c19e783f'), 'identificador': 7, 'nombre': 'step_7'}, {'_id': ObjectId('616760466dfe7c70c19e7840'), 'identificador': 8, 'nombre': 'step_8'}, {'_id': ObjectId('616760466dfe7c70c19e7841'), 'identificador': 9, 'nombre': 'step_9'}, {'_id': ObjectId('616760466dfe7c70c19e7842'), 'identificador': 10, 'nombre': 'step_10'}, {'_id': ObjectId('616760466dfe7c70c19e7843'), 'identificador': 11, 'nombre': 'step_11'}, {'_id': ObjectId('616760466dfe7c70c19e7844'), 'identificador': 12, 'nombre': 'step_12'}, {'_id': ObjectId('616760466dfe7c70c19e7845'), 'identificador': 13, 'nombre': 'step_13'}, {'_id': ObjectId('616760466dfe7c70c19e7846'), 'identificador': 14, 'nombre': 'step_14'}, {'_id': ObjectId('616760466dfe7c70c19e7847'), 'identificador': 15, 'nombre': 'step_15'}, {'_id': ObjectId('616760466dfe7c70c19e7848'), 'identificador': 16, 'nombre': 'step_16'}, {'_id': ObjectId('616760466dfe7c70c19e7849'), 'identificador': 17, 'nombre': 'step_17'}, {'_id': ObjectId('616760466dfe7c70c19e784a'), 'identificador': 18, 'nombre': 'step_18'}, {'_id': ObjectId('616760466dfe7c70c19e784b'), 'identificador': 19, 'nombre': 'step_19'}, {'_id': ObjectId('616760696dfe7c70c19e784d'), 'identificador': 0, 'nombre': 'step_0'}, {'_id': ObjectId('616760696dfe7c70c19e784e'), 'identificador': 1, 'nombre': 'step_1'}, {'_id': ObjectId('616760696dfe7c70c19e784f'), 'identificador': 2, 'nombre': 'step_2'}, {'_id': ObjectId('616760696dfe7c70c19e7850'), 'identificador': 3, 'nombre': 'step_3'}, {'_id': ObjectId('616760696dfe7c70c19e7851'), 'identificador': 4, 'nombre': 'step_4'}, {'_id': ObjectId('616760696dfe7c70c19e7852'), 'identificador': 5, 'nombre': 'step_5'}, {'_id': ObjectId('616760696dfe7c70c19e7853'), 'identificador': 6, 'nombre': 'step_6'}, {'_id': ObjectId('616760696dfe7c70c19e7854'), 'identificador': 7, 'nombre': 'step_7'}, {'_id': ObjectId('616760696dfe7c70c19e7855'), 'identificador': 8, 'nombre': 'step_8'}, {'_id': ObjectId('616760696dfe7c70c19e7856'), 'identificador': 9, 'nombre': 'step_9'}, {'_id': ObjectId('616760696dfe7c70c19e7857'), 'identificador': 10, 'nombre': 'step_10'}, {'_id': ObjectId('616760696dfe7c70c19e7858'), 'identificador': 11, 'nombre': 'step_11'}, {'_id': ObjectId('616760696dfe7c70c19e7859'), 'identificador': 12, 'nombre': 'step_12'}, {'_id': ObjectId('616760696dfe7c70c19e785a'), 'identificador': 13, 'nombre': 'step_13'}, {'_id': ObjectId('616760696dfe7c70c19e785b'), 'identificador': 14, 'nombre': 'step_14'}, {'_id': ObjectId('616760696dfe7c70c19e785c'), 'identificador': 15, 'nombre': 'step_15'}, {'_id': ObjectId('616760696dfe7c70c19e785d'), 'identificador': 16, 'nombre': 'step_16'}, {'_id': ObjectId('616760696dfe7c70c19e785e'), 'identificador': 17, 'nombre': 'step_17'}, {'_id': ObjectId('616760696dfe7c70c19e785f'), 'identificador': 18, 'nombre': 'step_18'}, {'_id': ObjectId('616760696dfe7c70c19e7860'), 'identificador': 19, 'nombre': 'step_19'}]\n"
     ]
    }
   ],
   "source": [
    "import pymongo\n",
    "from pymongo import MongoClient\n",
    "# conexión\n",
    "con = MongoClient('localhost',27017)\n",
    "db = con['testDATA']\n",
    "for i in range(20):\n",
    "    db['testCollection'].insert_one({'identificador':i, 'nombre':'step_'+str(i)})\n",
    "\n",
    "records = db['testCollection'].find()\n",
    "print(list(records))"
   ]
  },
  {
   "cell_type": "code",
   "execution_count": 67,
   "metadata": {},
   "outputs": [
    {
     "data": {
      "application/vnd.jupyter.widget-view+json": {
       "model_id": "855b868e17e34cbd886cf520b42300df",
       "version_major": 2,
       "version_minor": 0
      },
      "text/plain": [
       "                                             |          | [  0%]   00:00 -> (? left)"
      ]
     },
     "metadata": {},
     "output_type": "display_data"
    },
    {
     "name": "stdout",
     "output_type": "stream",
     "text": [
      "Report diabetes_report.html was generated! NOTEBOOK/COLAB USERS: the web browser MAY not pop up, regardless, the report IS saved in your notebook/colab files.\n"
     ]
    }
   ],
   "source": [
    "import pandas as pd\n",
    "import sweetviz as sv\n",
    "#*****************************************************\n",
    "diabetesDF = pd.read_csv(\"diabetes.csv\")\n",
    "#*****************************************************\n",
    "Report = sv.analyze(diabetesDF)\n",
    "Report.show_html('diabetes_report.html')"
   ]
  },
  {
   "cell_type": "code",
   "execution_count": null,
   "metadata": {},
   "outputs": [],
   "source": []
  }
 ],
 "metadata": {
  "kernelspec": {
   "display_name": "Python 3",
   "language": "python",
   "name": "python3"
  },
  "language_info": {
   "codemirror_mode": {
    "name": "ipython",
    "version": 3
   },
   "file_extension": ".py",
   "mimetype": "text/x-python",
   "name": "python",
   "nbconvert_exporter": "python",
   "pygments_lexer": "ipython3",
   "version": "3.8.8"
  }
 },
 "nbformat": 4,
 "nbformat_minor": 4
}
