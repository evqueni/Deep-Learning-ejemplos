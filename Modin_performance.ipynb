{
  "nbformat": 4,
  "nbformat_minor": 0,
  "metadata": {
    "colab": {
      "name": "Modin_performance.ipynb",
      "provenance": [],
      "authorship_tag": "ABX9TyMf2lAUFBskYgwVkvP468wr",
      "include_colab_link": true
    },
    "kernelspec": {
      "name": "python3",
      "display_name": "Python 3"
    },
    "language_info": {
      "name": "python"
    }
  },
  "cells": [
    {
      "cell_type": "markdown",
      "metadata": {
        "id": "view-in-github",
        "colab_type": "text"
      },
      "source": [
        "<a href=\"https://colab.research.google.com/github/evqueni/Deep-Learning-ejemplos/blob/main/Modin_performance.ipynb\" target=\"_parent\"><img src=\"https://colab.research.google.com/assets/colab-badge.svg\" alt=\"Open In Colab\"/></a>"
      ]
    },
    {
      "cell_type": "code",
      "execution_count": 11,
      "metadata": {
        "colab": {
          "base_uri": "https://localhost:8080/"
        },
        "id": "mZOlXutxcsel",
        "outputId": "70ebfe98-c2a9-4e12-cf69-3a1cebe8c6fb"
      },
      "outputs": [
        {
          "output_type": "stream",
          "name": "stdout",
          "text": [
            "Estado del Tracing :  True\n",
            "Tiempo transcurrido 1816.6677951812744 mili segundos\n",
            "Uso de Memoria Pico en MB -  239.8987512588501\n"
          ]
        }
      ],
      "source": [
        "#***************************************************************************************************\n",
        "#   Mide el performance de pandas al leer un archivo csv con 270639 filas\n",
        "#***************************************************************************************************\n",
        "import pandas as pd\n",
        "import tracemalloc\n",
        "import time\n",
        "##############################################################################\n",
        "def tracing_start():\n",
        "    tracemalloc.stop()\n",
        "    tracemalloc.start()\n",
        "    print(\"Estado del Tracing : \", tracemalloc.is_tracing())\n",
        "def tracing_mem():\n",
        "    first_size, first_peak = tracemalloc.get_traced_memory()\n",
        "    peak = first_peak/(1024*1024)\n",
        "    print(\"Uso de Memoria Pico en MB - \", peak)\n",
        "##############################################################################\n",
        "tracing_start()\n",
        "start = time.time()\n",
        "pd_df = pd.read_csv('/content/sample_data/mnist_train_small.csv')\n",
        "#pd_df = pd.read_csv('./atlcrime.csv', usecols=['crime','number', 'date', 'location',\n",
        "#                   'neighborhood', 'npu', 'lat', 'long'])\n",
        "end = time.time()\n",
        "print(\"Tiempo transcurrido {} mili segundos\".format((end-start)*1000))\n",
        "tracing_mem()\n",
        "\n"
      ]
    },
    {
      "cell_type": "code",
      "source": [
        "#***************************************************************************************************\n",
        "#   Mide el performance de modin al leer un archivo csv con 270639 filas\n",
        "#***************************************************************************************************\n",
        "import modin.pandas as mpd\n",
        "import tracemalloc\n",
        "import time\n",
        "import ray\n",
        "##############################################################################\n",
        "def tracing_start():\n",
        "    tracemalloc.stop()\n",
        "    tracemalloc.start()\n",
        "    print(\"Estado del Tracing : \", tracemalloc.is_tracing())\n",
        "def tracing_mem():\n",
        "    first_size, first_peak = tracemalloc.get_traced_memory()\n",
        "    peak = first_peak/(1024*1024)\n",
        "    print(\"Uso de Memoria Pico en MB - \", peak)\n",
        "    #############################################################################    \n",
        "if ray.is_initialized()==False:\n",
        "    ray.init()\n",
        "tracing_start()\n",
        "start = time.time()\n",
        "mpd_df = mpd.read_csv('/content/sample_data/mnist_train_small.csv')    \n",
        "#mpd_df = mpd.read_csv('./atlcrime.csv', usecols=['crime','number', 'date', 'location',\n",
        "#                   'neighborhood', 'npu', 'lat', 'long'])\n",
        "end = time.time()\n",
        "print(\"Tiempo transcurrido {} mili segundos\".format((end-start)*1000))\n",
        "tracing_mem()"
      ],
      "metadata": {
        "colab": {
          "base_uri": "https://localhost:8080/"
        },
        "id": "vmGNSCHtcxfy",
        "outputId": "0c10b592-2102-4a57-818f-d3bf882e8a44"
      },
      "execution_count": 13,
      "outputs": [
        {
          "output_type": "stream",
          "name": "stdout",
          "text": [
            "Estado del Tracing :  True\n",
            "Tiempo transcurrido 1690.6917095184326 mili segundos\n",
            "Uso de Memoria Pico en MB -  17.516236305236816\n"
          ]
        }
      ]
    },
    {
      "cell_type": "code",
      "source": [
        "#***************************************************************************************************\n",
        "#   Mide el performance de datetable al leer un archivo csv con 270639 filas\n",
        "#***************************************************************************************************\n",
        "import datatable as dt\n",
        "import tracemalloc\n",
        "import time\n",
        "##############################################################################\n",
        "def tracing_start():\n",
        "    tracemalloc.stop()\n",
        "    tracemalloc.start()\n",
        "    print(\"Estado del Tracing : \", tracemalloc.is_tracing())\n",
        "def tracing_mem():\n",
        "    first_size, first_peak = tracemalloc.get_traced_memory()\n",
        "    peak = first_peak/(1024*1024)\n",
        "    print(\"Uso de Memoria Pico en MB - \", peak)\n",
        "##############################################################################\n",
        "tracing_start()\n",
        "start = time.time()\n",
        "dt_df=dt.fread('/content/sample_data/mnist_train_small.csv')\n",
        "#dt_df = dt.fread('./atlcrime.csv')\n",
        "end = time.time()\n",
        "print(\"Tiempo transcurrido {} mili segundos\".format((end-start)*1000))\n",
        "tracing_mem()"
      ],
      "metadata": {
        "colab": {
          "base_uri": "https://localhost:8080/"
        },
        "id": "57zCo99Qc1NZ",
        "outputId": "7509607c-0045-4808-d6d9-079bbf142f3b"
      },
      "execution_count": 15,
      "outputs": [
        {
          "output_type": "stream",
          "name": "stdout",
          "text": [
            "Estado del Tracing :  True\n",
            "Tiempo transcurrido 610.9428405761719 mili segundos\n",
            "Uso de Memoria Pico en MB -  0.1426239013671875\n"
          ]
        }
      ]
    }
  ]
}