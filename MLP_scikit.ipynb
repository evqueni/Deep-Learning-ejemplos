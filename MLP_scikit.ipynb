{
 "cells": [
  {
   "cell_type": "code",
   "execution_count": 18,
   "id": "4bd50eee",
   "metadata": {},
   "outputs": [
    {
     "name": "stdout",
     "output_type": "stream",
     "text": [
      "Accuracy de MLP training set: 1.00\n",
      "Accuracy de MLP test set: 0.97\n",
      "              precision    recall  f1-score   support\n",
      "\n",
      "           0       1.00      1.00      1.00        13\n",
      "           1       1.00      0.94      0.97        16\n",
      "           2       0.90      1.00      0.95         9\n",
      "\n",
      "    accuracy                           0.97        38\n",
      "   macro avg       0.97      0.98      0.97        38\n",
      "weighted avg       0.98      0.97      0.97        38\n",
      "\n"
     ]
    }
   ],
   "source": [
    "#Clasificación del Iris Dataset con MLP\n",
    "import pandas as pd\n",
    "import numpy as np\n",
    "from sklearn import datasets\n",
    "from sklearn.model_selection import train_test_split\n",
    "from sklearn.preprocessing import MinMaxScaler\n",
    "from sklearn.neural_network import MLPClassifier\n",
    "from sklearn.metrics import classification_report\n",
    "from sklearn.metrics import confusion_matrix\n",
    "#******************************************************************\n",
    "iris = datasets.load_iris(as_frame=True)\n",
    "\n",
    "#******************************************************************\n",
    "x_train, x_test, y_train, y_test = train_test_split(iris.data,iris.target, test_size = 0.25, random_state = 0)\n",
    "#******************************************************************\n",
    "scaler = MinMaxScaler()\n",
    "X_train = scaler.fit_transform(x_train)\n",
    "X_test = scaler.transform(x_test)\n",
    "#******************************************************************\n",
    "mlp = MLPClassifier(solver='lbfgs', hidden_layer_sizes=(6,3), max_iter=500)\n",
    "mlp.fit(X_train, y_train)\n",
    "print('Accuracy de MLP training set: {:.2f}'\n",
    "     .format(mlp.score(X_train, y_train)))\n",
    "print('Accuracy de MLP test set: {:.2f}'\n",
    "     .format(mlp.score(X_test, y_test)))\n",
    "y_pred=mlp.predict(X_test)\n",
    "print(classification_report(y_test,y_pred))\n"
   ]
  },
  {
   "cell_type": "code",
   "execution_count": 38,
   "id": "0f715ae9",
   "metadata": {},
   "outputs": [
    {
     "name": "stdout",
     "output_type": "stream",
     "text": [
      "Error medio absoluto LR: 0.003106141878474775\n",
      "Error medio absoluto MLP: 0.0030886339979280734\n"
     ]
    }
   ],
   "source": [
    "import pandas as pd\n",
    "import numpy as np\n",
    "import matplotlib.pyplot as plt\n",
    "from sklearn.model_selection import train_test_split\n",
    "from sklearn.linear_model import LinearRegression\n",
    "from sklearn.neural_network import MLPRegressor\n",
    "from sklearn.metrics import mean_absolute_error\n",
    "from sklearn.preprocessing import MinMaxScaler\n",
    "#********************************************************\n",
    "data = pd.read_csv(\"vgsales.csv\")\n",
    "data = data.dropna()\n",
    "x = data[[\"Rank\", \"NA_Sales\", \"EU_Sales\", \"JP_Sales\", \"Other_Sales\"]]\n",
    "y = data[\"Global_Sales\"]\n",
    "#**********************************************************\n",
    "xtrain, xtest, ytrain, ytest = train_test_split(x, y, test_size=0.2, random_state=42)\n",
    "#**********************************************************\n",
    "scaler = MinMaxScaler()\n",
    "X_train = scaler.fit_transform(xtrain)\n",
    "X_test = scaler.transform(xtest)\n",
    "#****************************************************************************\n",
    "LR_model = LinearRegression()\n",
    "LR_model.fit(X_train, ytrain)\n",
    "LR_predictions = LR_model.predict(X_test)\n",
    "print(\"Error medio absoluto LR:\",mean_absolute_error(ytest,LR_predictions))\n",
    "#**********************************************************\n",
    "MLPR_model=MLPRegressor(hidden_layer_sizes=(15,8),activation='identity',solver='lbfgs',max_iter=500)\n",
    "MLPR_model.fit(X_train, ytrain)\n",
    "MLPR_predictions = MLPR_model.predict(X_test)\n",
    "print(\"Error medio absoluto MLP:\",mean_absolute_error(ytest,MLPR_predictions))"
   ]
  },
  {
   "cell_type": "code",
   "execution_count": null,
   "id": "9b9c6b82",
   "metadata": {},
   "outputs": [],
   "source": []
  }
 ],
 "metadata": {
  "kernelspec": {
   "display_name": "Python 3",
   "language": "python",
   "name": "python3"
  },
  "language_info": {
   "codemirror_mode": {
    "name": "ipython",
    "version": 3
   },
   "file_extension": ".py",
   "mimetype": "text/x-python",
   "name": "python",
   "nbconvert_exporter": "python",
   "pygments_lexer": "ipython3",
   "version": "3.8.8"
  }
 },
 "nbformat": 4,
 "nbformat_minor": 5
}
