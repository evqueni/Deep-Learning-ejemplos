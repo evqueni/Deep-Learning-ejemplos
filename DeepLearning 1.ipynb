{
 "cells": [
  {
   "cell_type": "code",
   "execution_count": null,
   "metadata": {
    "scrolled": true
   },
   "outputs": [],
   "source": [
    "import keras\n",
    "from keras.datasets import mnist\n",
    "from keras.utils import to_categorical\n",
    "from keras.models import Sequential \n",
    "from keras.layers.core import Dense,Activation,Dropout\n",
    "import pandas as pd\n",
    "import numpy as np\n",
    "import matplotlib.pyplot as plt\n",
    "import sklearn.datasets as datasets\n",
    "from sklearn.model_selection import train_test_split\n",
    "from sklearn.preprocessing import StandardScaler\n",
    "#*************************************************************\n",
    "# Cargamos el dataset \n",
    "#(x_train,y_train),(x_test,y_test) = mnist.load_data()\n",
    "IDS = datasets.load_iris()\n",
    "x_train, x_test, y_train, y_test = train_test_split(IDS.data,IDS.target, test_size = 0.15, random_state = 45)\n",
    "#**************************************************************\n",
    "# Covertimos a float, por defecto el tipo de datos uint8\n",
    "x_Train = x_train.astype('float32')\n",
    "y_Train = y_train.astype('float32')\n",
    "\n",
    "# Normalizamos el conjunto de datos\n",
    "scaler = StandardScaler()\n",
    "x_Train = scaler.fit_transform(x_train)\n",
    "x_Test = scaler.fit_transform(x_test)\n",
    "#Los caracteres manuscritos vienen representados como \n",
    "#matrices de 28x28. Aquí se cambian a arreglos de 784 pixeles\n",
    "#x_Train = x_Train.reshape(60000, 784)\n",
    "#x_Test = x_test.reshape(10000, 784)\n",
    "# Como utilizamos one-hot encoding, se convierten las etiquetas\n",
    "# en un vector de 10 componentes\n",
    "y_Train = to_categorical(y_train)\n",
    "y_Test = to_categorical(y_test)\n",
    "#**************************************************************\n",
    "# Definimos el modelo que vamos a usar\n",
    "model= Sequential()\n",
    "model.add(Dense(512, activation='relu', input_shape=(4,)))\n",
    "#model.add(Dense(196, activation='relu'))\n",
    "model.add(Dense(3, activation='softmax'))\n",
    "#model.add(Dropout(0.3))\n",
    "#*********************************************************************\n",
    "# Con la red definida en la sección anterior ahora podemos entrenarla\n",
    "model.compile(loss=\"categorical_crossentropy\",optimizer=\"sgd\", metrics = ['accuracy'])\n",
    "model.fit(x_Train, y_Train, batch_size=100, epochs=30)\n",
    "#********************************************************************\n",
    "# Ahora hacemos un test del modelo\n",
    "test_loss, test_acc = model.evaluate(x_Test, y_Test)\n",
    "test_acc"
   ]
  },
  {
   "cell_type": "code",
   "execution_count": null,
   "metadata": {},
   "outputs": [],
   "source": [
    "predictions = model.predict(x_test)\n",
    "\n"
   ]
  },
  {
   "cell_type": "code",
   "execution_count": null,
   "metadata": {
    "scrolled": true
   },
   "outputs": [],
   "source": [
    "np.argmax(predictions[1])\n"
   ]
  },
  {
   "cell_type": "code",
   "execution_count": null,
   "metadata": {},
   "outputs": [],
   "source": [
    "import keras\n",
    "from keras import layers\n",
    "from keras.datasets import mnist\n",
    "from keras.utils import to_categorical\n",
    "from keras.models import Sequential \n",
    "from keras.layers.core import Dense,Activation,Dropout\n",
    "#*********************************************************************\n",
    "# Cargamos el dataset \n",
    "(x_train,y_train),(x_test,y_test) = mnist.load_data()\n",
    "#**************************************************************\n",
    "# Covertimos a float, por defecto el tipo de datos uint8\n",
    "x_Train = x_train.astype('float32')\n",
    "y_Train = y_train.astype('float32')\n",
    "# Normalizamos el conjunto de datos\n",
    "x_Train /= 255\n",
    "x_Test /= 255\n",
    "#Los caracteres manuscritos vienen representados como \n",
    "#matrices de 28x28. Aquí se cambian a arreglos de 784 pixeles\n",
    "x_Train = x_Train.reshape(60000, 784)\n",
    "x_Test = x_test.reshape(10000, 784)\n",
    "# Como utilizamos one-hot encoding, se convierten las etiquetas\n",
    "# en un vector de 10 componentes\n",
    "y_Train = to_categorical(y_train)\n",
    "y_Test = to_categorical(y_test)\n",
    "#**************************************************************\n",
    "# Definimos el modelo que vamos a usar\n",
    "model= Sequential()\n",
    "model.add(Dense(512, activation='relu', input_shape=(784,)))\n",
    "#model.add(Dense(196, activation='relu'))\n",
    "model.add(Dense(10, activation='softmax'))\n",
    "#model.add(Dropout(0.3))\n",
    "#*********************************************************************\n",
    "# Con la red definida en la sección anterior ahora podemos entrenarla\n",
    "model.compile(loss=\"categorical_crossentropy\",optimizer=\"sgd\", metrics = ['accuracy'])\n",
    "model.fit(x_Train, y_Train, batch_size=100, epochs=30)\n",
    "#********************************************************************\n",
    "# Ahora hacemos un test del modelo\n",
    "test_loss, test_acc = model.evaluate(x_Test, y_Test)\n",
    "test_acc"
   ]
  },
  {
   "cell_type": "code",
   "execution_count": 8,
   "metadata": {
    "scrolled": true
   },
   "outputs": [
    {
     "name": "stdout",
     "output_type": "stream",
     "text": [
      "Epoch 1/5\n",
      "600/600 [==============================] - 27s 44ms/step - loss: 1.0646 - accuracy: 0.6825\n",
      "Epoch 2/5\n",
      "600/600 [==============================] - 26s 44ms/step - loss: 0.3176 - accuracy: 0.9065\n",
      "Epoch 3/5\n",
      "600/600 [==============================] - 26s 44ms/step - loss: 0.2240 - accuracy: 0.9340\n",
      "Epoch 4/5\n",
      "600/600 [==============================] - 26s 44ms/step - loss: 0.1815 - accuracy: 0.9461\n",
      "Epoch 5/5\n",
      "600/600 [==============================] - 26s 44ms/step - loss: 0.1536 - accuracy: 0.9537\n",
      "313/313 [==============================] - 2s 6ms/step - loss: 0.1036 - accuracy: 0.9713\n"
     ]
    },
    {
     "ename": "KeyError",
     "evalue": "'val_loss'",
     "output_type": "error",
     "traceback": [
      "\u001b[0;31m---------------------------------------------------------------------------\u001b[0m",
      "\u001b[0;31mKeyError\u001b[0m                                  Traceback (most recent call last)",
      "\u001b[0;32m<ipython-input-8-ed01b211791c>\u001b[0m in \u001b[0;36m<module>\u001b[0;34m\u001b[0m\n\u001b[1;32m     41\u001b[0m \u001b[0mdictkeys\u001b[0m\u001b[0;34m=\u001b[0m\u001b[0mlist\u001b[0m\u001b[0;34m(\u001b[0m\u001b[0mhistory_dict\u001b[0m\u001b[0;34m.\u001b[0m\u001b[0mkeys\u001b[0m\u001b[0;34m(\u001b[0m\u001b[0;34m)\u001b[0m\u001b[0;34m)\u001b[0m\u001b[0;34m\u001b[0m\u001b[0;34m\u001b[0m\u001b[0m\n\u001b[1;32m     42\u001b[0m \u001b[0mloss_values\u001b[0m     \u001b[0;34m=\u001b[0m \u001b[0mmodelinfo\u001b[0m\u001b[0;34m.\u001b[0m\u001b[0mhistory\u001b[0m\u001b[0;34m[\u001b[0m\u001b[0;34m'loss'\u001b[0m\u001b[0;34m]\u001b[0m\u001b[0;34m\u001b[0m\u001b[0;34m\u001b[0m\u001b[0m\n\u001b[0;32m---> 43\u001b[0;31m \u001b[0mval_loss_values\u001b[0m \u001b[0;34m=\u001b[0m \u001b[0mmodelinfo\u001b[0m\u001b[0;34m.\u001b[0m\u001b[0mhistory\u001b[0m\u001b[0;34m[\u001b[0m\u001b[0;34m'val_loss'\u001b[0m\u001b[0;34m]\u001b[0m\u001b[0;34m\u001b[0m\u001b[0;34m\u001b[0m\u001b[0m\n\u001b[0m\u001b[1;32m     44\u001b[0m \u001b[0mepochs\u001b[0m \u001b[0;34m=\u001b[0m \u001b[0mrange\u001b[0m\u001b[0;34m(\u001b[0m\u001b[0;36m1\u001b[0m\u001b[0;34m,\u001b[0m \u001b[0mlen\u001b[0m\u001b[0;34m(\u001b[0m\u001b[0mloss_values\u001b[0m\u001b[0;34m)\u001b[0m \u001b[0;34m+\u001b[0m \u001b[0;36m1\u001b[0m\u001b[0;34m)\u001b[0m\u001b[0;34m\u001b[0m\u001b[0;34m\u001b[0m\u001b[0m\n\u001b[1;32m     45\u001b[0m \u001b[0mplt\u001b[0m\u001b[0;34m.\u001b[0m\u001b[0mfigure\u001b[0m\u001b[0;34m(\u001b[0m\u001b[0mfigsize\u001b[0m\u001b[0;34m=\u001b[0m\u001b[0;34m(\u001b[0m\u001b[0;36m12\u001b[0m\u001b[0;34m,\u001b[0m\u001b[0;36m5\u001b[0m\u001b[0;34m)\u001b[0m\u001b[0;34m)\u001b[0m\u001b[0;34m\u001b[0m\u001b[0;34m\u001b[0m\u001b[0m\n",
      "\u001b[0;31mKeyError\u001b[0m: 'val_loss'"
     ]
    }
   ],
   "source": [
    "import keras\n",
    "from keras import layers\n",
    "from keras.datasets import mnist\n",
    "from tensorflow.keras.utils import to_categorical\n",
    "from keras.models import Sequential \n",
    "from keras.layers.core import Dense,Activation,Dropout\n",
    "#*********************************************************************\n",
    "# Cargamos el dataset \n",
    "(x_train,y_train),(x_test,y_test) = mnist.load_data()\n",
    "#**************************************************************\n",
    "#Los caracteres manuscritos vienen representados como \n",
    "#matrices de 28x28. Aquí se cambian a arreglos de 784 pixeles\n",
    "x_Train = x_train.reshape(60000,28,28,1)\n",
    "x_Train = x_Train.astype('float32') / 255\n",
    "x_Test = x_test.reshape(10000, 28, 28, 1)\n",
    "x_Test = x_Test.astype('float32') / 255\n",
    "# Como utilizamos one-hot encoding, se convierten las etiquetas\n",
    "# en un vector de 10 componentes\n",
    "y_Train = to_categorical(y_train)\n",
    "y_Test = to_categorical(y_test)\n",
    "#**************************************************************\n",
    "# Definimos el modelo que vamos a usar\n",
    "model= Sequential()\n",
    "model.add(layers.Conv2D(32,(5,5),activation='relu',input_shape=(28, 28,1)))\n",
    "model.add(layers.MaxPooling2D((2, 2)))\n",
    "model.add(layers.Conv2D(64, (5, 5), activation='relu'))\n",
    "model.add(layers.MaxPooling2D((2, 2)))\n",
    "model.add(layers.Flatten())\n",
    "model.add(Dropout(0.3))\n",
    "model.add(layers.Dense(10, activation='softmax'))\n",
    "#*********************************************************************\n",
    "# Con la red definida en la sección anterior ahora podemos entrenarla\n",
    "model.compile(loss=\"categorical_crossentropy\",optimizer=\"sgd\", metrics = ['accuracy'])\n",
    "modelinfo=model.fit(x_Train, y_Train, batch_size=100, epochs=5)\n",
    "#********************************************************************\n",
    "# Ahora hacemos un test del modelo\n",
    "test_loss, test_acc = model.evaluate(x_Test, y_Test)\n",
    "test_acc\n",
    "#********************************************************************\n"
   ]
  },
  {
   "cell_type": "code",
   "execution_count": 17,
   "metadata": {},
   "outputs": [
    {
     "data": {
      "image/png": "[encoded data removed]",
      "text/plain": [
       "<Figure size 864x360 with 1 Axes>"
      ]
     },
     "metadata": {
      "needs_background": "light"
     },
     "output_type": "display_data"
    },
    {
     "data": {
      "image/png": "[encoded data removed]",
      "text/plain": [
       "<Figure size 864x360 with 1 Axes>"
      ]
     },
     "metadata": {
      "needs_background": "light"
     },
     "output_type": "display_data"
    }
   ],
   "source": [
    "import matplotlib.pyplot as plt\n",
    "history_dict = modelinfo.history\n",
    "dictkeys=list(history_dict.keys())\n",
    "loss_values = modelinfo.history['loss']\n",
    "#val_loss_values = modelinfo.history['val_loss']\n",
    "epochs = range(1, len(loss_values) + 1)\n",
    "plt.figure(figsize=(12,5))\n",
    "plt.plot(epochs, loss_values, 'b', label='Training loss')\n",
    "#plt.plot(epochs, val_loss_values, 'g', label='Validation loss')\n",
    "plt.title('Valor de la función objetivo (loss) en conjuntos de en entrenamiento y validación')\n",
    "plt.xlabel('Epocas')\n",
    "plt.ylabel('')\n",
    "plt.hlines(y=.078, xmin=0, xmax=20, colors='k', linestyles='dashed')\n",
    "plt.legend()\n",
    "plt.show()\n",
    "\n",
    "acc_values = history_dict['accuracy']\n",
    "#val_acc_values = history_dict['val_accuracy']\n",
    "plt.figure(figsize=(12,5))\n",
    "plt.plot(epochs, acc_values, 'b', label='Accuracy')\n",
    "#plt.plot(epochs, val_acc_values, 'g', label='Validation accuracy')\n",
    "plt.title('Training and validation accuracy')\n",
    "plt.xlabel('Epochs')\n",
    "plt.ylabel('Loss')\n",
    "plt.hlines(y=.982, xmin=0, xmax=20, colors='k', linestyles='dashed')\n",
    "plt.legend()\n",
    "plt.show()"
   ]
  },
  {
   "cell_type": "code",
   "execution_count": 157,
   "metadata": {},
   "outputs": [
    {
     "data": {
      "image/png": "[encoded data removed]",
      "text/plain": [
       "<Figure size 576x576 with 1 Axes>"
      ]
     },
     "metadata": {
      "needs_background": "light"
     },
     "output_type": "display_data"
    },
    {
     "name": "stdout",
     "output_type": "stream",
     "text": [
      "Acc sobre el conjunto de prueva: 1.0\n",
      "Acc sobre el conjunto de prueva: 1.0\n"
     ]
    }
   ],
   "source": [
    "import numpy as np\n",
    "import matplotlib.pyplot as plt\n",
    "from sklearn.metrics import accuracy_score\n",
    "#********************************************************************************\n",
    "def perceptron(X,y,lrate,epocas):\n",
    "    #Se extrae el número de casos y el número de rasgos\n",
    "    m, n = X.shape\n",
    "    # Se inicializan los pesos a cero y se agrega el bias\n",
    "    W = np.zeros((n+1,1))\n",
    "    miss_list=[]\n",
    "    # Esto lo repetimos el número de epocas\n",
    "    for epoca in range(epocas):\n",
    "        # Variable donde guardamos el número de errores\n",
    "        miss_n=0\n",
    "        for index, x in enumerate(X):\n",
    "            #inserta el bias\n",
    "            x = np.insert(x, 0, 1).reshape(-1,1)\n",
    "            # Intenta clasificar el caso x con los parámetros w\n",
    "            y_hat = step_func(np.dot(x.T, W))\n",
    "            #si hay error en la clasificación ajusta los pesos W\n",
    "            if (y_hat - y[index]) != 0:\n",
    "                #aplica la regla de acctualización lrate*(Actual-predicho)*x\n",
    "                W += lrate*((y[index] - y_hat)*x)\n",
    "                miss_n += 1\n",
    "    miss_list.append(miss_n)  \n",
    "    return W,miss_list\n",
    "#***********************************************************************************\n",
    "#Función Step de Heaviside\n",
    "def step_func(z):\n",
    "    return 1.0 if(z>=0) else 0.0\n",
    "#************************************** \n",
    "def plot_decision_boundary(X, W):\n",
    "    # en X estan todos los casos\n",
    "    # W contiene todos los pesos\n",
    "    # La superficie de decisión es una linea y=mx+c\n",
    "    # De forma que mx+c = W0.X0 + W1.X1 + W2.X2\n",
    "    # Vamos a resolver la ecuación\n",
    "    x1 = [min(X[:,0]), max(X[:,0])]\n",
    "    m = -W[1]/W[2]\n",
    "    c = -W[0]/W[2]\n",
    "    x2 = m*x1 + c\n",
    "    \n",
    "    # Plotting\n",
    "    fig = plt.figure(figsize=(8,8))\n",
    "    plt.plot(X[:, 0][y==0], X[:, 1][y==0],\"bs\")\n",
    "    plt.plot(X[:, 0][y==1], X[:, 1][y==1],\"b^\")\n",
    "    plt.xlabel(\"Rasgo 1\")\n",
    "    plt.ylabel(\"Rasgo 2\")\n",
    "    plt.title('Algorimo del Perceptron')\n",
    "    plt.plot(x1, x2, 'y-')\n",
    "    plt.show()\n",
    "#***************************************************************************\n",
    "def Perceptron_predict(X,W):\n",
    "    n=len(X)\n",
    "    target=[]\n",
    "    for index, x in enumerate(X):\n",
    "        x = np.insert(x, 0, 1).reshape(-1,1)\n",
    "        target.append(step_func(np.dot(x.T, W)))\n",
    "    return target\n",
    "#*******************************************************************************\n",
    "# Puntos que forman el conjunto de entrenamiento\n",
    "X=np.array([[0.3,0.84],[0.45,0.9],[0.48,0.82],[0.53,0.73],\n",
    "           [0.54,0.32],[0.76,0.35],[0.75,0.49],[0.69,0.23]])\n",
    "Y =[1,1,1,1,0,0,0,0]\n",
    "# Puntos que sirven de conjunto de prueba. \n",
    "X_test=np.array([[0.07,0.65],[0.06,0.75],[0.14,0.9],[0.34,0.79],\n",
    "           [0.38,0.06],[0.56,0.05],[0.69,0.16],[0.53,0.17]])\n",
    "Y_test =[1,1,1,1,0,0,0,0]\n",
    "W, miss_l = perceptron(X, Y, 0.6, 10)\n",
    "X_C=np.concatenate((X,X_test), axis=0)\n",
    "plot_decision_boundary(X_C, W)\n",
    "pred_test = Perceptron_predict(X_test,W)\n",
    "pred_train = Perceptron_predict(X,W)\n",
    "acc_train= accuracy_score(Y_test,pred_train)\n",
    "acc_test= accuracy_score(Y_test,pred_test)\n",
    "print(\"Acc sobre el conjunto de prueva:\",acc_train)\n",
    "print(\"Acc sobre el conjunto de prueva:\",acc_test)"
   ]
  },
  {
   "cell_type": "code",
   "execution_count": null,
   "metadata": {},
   "outputs": [],
   "source": [
    "#Ejemplo de uso de XGBoost comparado con Regesión Lineal\n",
    "import xgboost as xgb\n",
    "import pandas as pd\n",
    "import numpy as np\n",
    "from sklearn.linear_model import LinearRegression as LR\n",
    "from sklearn.model_selection import train_test_split\n",
    "from sklearn import datasets \n",
    "from sklearn.preprocessing import MinMaxScaler\n",
    "from sklearn.metrics import classification_report\n",
    "from sklearn.metrics import confusion_matrix\n",
    "#****************************************************************************\n",
    "iris = datasets.load_iris()\n",
    "#******************************************************************\n",
    "x_train, x_test, y_train, y_test = train_test_split(iris.data,iris.target, test_size = 0.25, random_state = 0)\n",
    "#******************************************************************\n",
    "scaler = MinMaxScaler()\n",
    "X_train = scaler.fit_transform(x_train)\n",
    "X_test = scaler.transform(x_test)\n",
    "#***********************************************************************************************\n",
    "clf_xgb = xgb.XGBClassifier(objective='binary:logistic', n_estimators=10,seed=123,label_encoder=False)\n",
    "clf_xgb.fit(X_train, y_train)\n",
    "preds_xgb = clf_xgb.predict(X_test)\n",
    "clf_lr = LR().fit(X_train, y_train)\n",
    "accuracy_xgb = float(np.sum(preds_xgb == y_test))/y_test.shape[0]\n",
    "print('Accuracy de XGBoost: ', accuracy_xgb)\n",
    "accuracy_lr = clf_lr.score(X_test, y_test)\n",
    "print('Accuracy de Regresion Lineal: ', accuracy_lr)"
   ]
  },
  {
   "cell_type": "code",
   "execution_count": null,
   "metadata": {},
   "outputs": [],
   "source": []
  }
 ],
 "metadata": {
  "kernelspec": {
   "display_name": "Python 3",
   "language": "python",
   "name": "python3"
  },
  "language_info": {
   "codemirror_mode": {
    "name": "ipython",
    "version": 3
   },
   "file_extension": ".py",
   "mimetype": "text/x-python",
   "name": "python",
   "nbconvert_exporter": "python",
   "pygments_lexer": "ipython3",
   "version": "3.8.8"
  }
 },
 "nbformat": 4,
 "nbformat_minor": 4
}
